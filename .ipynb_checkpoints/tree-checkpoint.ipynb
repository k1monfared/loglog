{
 "cells": [
  {
   "cell_type": "code",
   "execution_count": 1,
   "id": "87e3a2b3",
   "metadata": {},
   "outputs": [],
   "source": [
    "%load_ext autoreload\n",
    "%autoreload 2"
   ]
  },
  {
   "cell_type": "code",
   "execution_count": 4,
   "id": "c7353b61",
   "metadata": {},
   "outputs": [],
   "source": [
    "from loglog import *"
   ]
  },
  {
   "cell_type": "markdown",
   "id": "1083dee6",
   "metadata": {},
   "source": [
    "# test"
   ]
  },
  {
   "cell_type": "code",
   "execution_count": 5,
   "id": "a61d72f1",
   "metadata": {},
   "outputs": [
    {
     "name": "stdout",
     "output_type": "stream",
     "text": [
      "- Main Item 1\n",
      "    - Subitem 1.1\n",
      "        [] Subsubitem 1.1.1\n",
      "        [x] Subsubitem 1.1.2\n",
      "    [?] Subitem 1.2\n",
      "        [?] Subsubitem 1.2.1\n",
      "- Main Item 2\n",
      "    - Subitem 2.1\n",
      "        - [xyz] Subsubitem 2.1.1\n",
      "        - Subsubitem 2.1.2\n",
      "        - Subsubitem 2.1.3\n"
     ]
    }
   ],
   "source": [
    "text_lines = \"\"\"\n",
    "- Main Item 1\n",
    "    - Subitem 1.1\n",
    "        [] Subsubitem 1.1.1\n",
    "        [x] Subsubitem 1.1.2\n",
    "    [?] Subitem 1.2\n",
    "        [-] Subsubitem 1.2.1\n",
    "- Main Item 2\n",
    "    - Subitem 2.1\n",
    "        [xyz] Subsubitem 2.1.1\n",
    "        - Subsubitem 2.1.2\n",
    "        - Subsubitem 2.1.3\"\"\".split('\\n')\n",
    "root = build_tree_from_text(text_lines)\n",
    "print_tree(root, numbered = False, decor = 'type')"
   ]
  },
  {
   "cell_type": "markdown",
   "id": "e2076ea5",
   "metadata": {},
   "source": [
    "# read and convert a file to a tree"
   ]
  },
  {
   "cell_type": "code",
   "execution_count": 9,
   "id": "70e00a3d",
   "metadata": {
    "scrolled": true
   },
   "outputs": [
    {
     "ename": "FileNotFoundError",
     "evalue": "[Errno 2] No such file or directory: '~/public/notes/movies'",
     "output_type": "error",
     "traceback": [
      "\u001b[0;31m---------------------------------------------------------------------------\u001b[0m",
      "\u001b[0;31mFileNotFoundError\u001b[0m                         Traceback (most recent call last)",
      "Cell \u001b[0;32mIn[9], line 2\u001b[0m\n\u001b[1;32m      1\u001b[0m file_path \u001b[38;5;241m=\u001b[39m \u001b[38;5;124m\"\u001b[39m\u001b[38;5;124m~/public/notes/movies\u001b[39m\u001b[38;5;124m\"\u001b[39m\n\u001b[0;32m----> 2\u001b[0m root \u001b[38;5;241m=\u001b[39m build_tree_from_file(file_path)\n\u001b[1;32m      3\u001b[0m print_tree(root, numbered \u001b[38;5;241m=\u001b[39m \u001b[38;5;28;01mFalse\u001b[39;00m, decor \u001b[38;5;241m=\u001b[39m \u001b[38;5;124m'\u001b[39m\u001b[38;5;124mtype\u001b[39m\u001b[38;5;124m'\u001b[39m)\n",
      "File \u001b[0;32m~/projects/loglog/loglog.py:120\u001b[0m, in \u001b[0;36mbuild_tree_from_file\u001b[0;34m(file_path)\u001b[0m\n\u001b[1;32m    119\u001b[0m \u001b[38;5;28;01mdef\u001b[39;00m \u001b[38;5;21mbuild_tree_from_file\u001b[39m(file_path):\n\u001b[0;32m--> 120\u001b[0m     \u001b[38;5;28;01mwith\u001b[39;00m \u001b[38;5;28mopen\u001b[39m(file_path, \u001b[38;5;124m\"\u001b[39m\u001b[38;5;124mr\u001b[39m\u001b[38;5;124m\"\u001b[39m) \u001b[38;5;28;01mas\u001b[39;00m file:\n\u001b[1;32m    121\u001b[0m         text_lines \u001b[38;5;241m=\u001b[39m file\u001b[38;5;241m.\u001b[39mreadlines()\n\u001b[1;32m    122\u001b[0m     root \u001b[38;5;241m=\u001b[39m build_tree_from_text(text_lines)\n",
      "\u001b[0;31mFileNotFoundError\u001b[0m: [Errno 2] No such file or directory: '~/public/notes/movies'"
     ]
    }
   ],
   "source": [
    "file_path = \"~/public/notes/movies\"\n",
    "root = build_tree_from_file(file_path)\n",
    "print_tree(root, numbered = False, decor = 'type')"
   ]
  },
  {
   "cell_type": "markdown",
   "id": "4e974c0a",
   "metadata": {},
   "source": [
    "# traverse the tree"
   ]
  },
  {
   "cell_type": "code",
   "execution_count": 484,
   "id": "1ffcc01f",
   "metadata": {},
   "outputs": [
    {
     "name": "stdout",
     "output_type": "stream",
     "text": [
      "- 9.1.4.2.1. — Donya works for a Chinese fortune cookie factory in San Francisco. Formerly a translator for the U.S. military in Afghanistan, she struggles to put her life back in order. In a moment of sudden revelation, she decides to send out a special message in a cookie. Cast: Anaita Wali Zada, Jeremy Allen White, Gregg Turkington. World Premiere. Fiction. Available online.\n",
      "\n"
     ]
    }
   ],
   "source": [
    "address = \"9.1.4.2.1.\"\n",
    "node = get_node(root, address)\n",
    "print_tree(node, numbered = True, decor = 'type')"
   ]
  },
  {
   "cell_type": "code",
   "execution_count": 335,
   "id": "e75c58f0",
   "metadata": {},
   "outputs": [],
   "source": []
  },
  {
   "cell_type": "code",
   "execution_count": null,
   "id": "346db93c",
   "metadata": {},
   "outputs": [],
   "source": []
  }
 ],
 "metadata": {
  "kernelspec": {
   "display_name": "Python 3 (ipykernel)",
   "language": "python",
   "name": "python3"
  },
  "language_info": {
   "codemirror_mode": {
    "name": "ipython",
    "version": 3
   },
   "file_extension": ".py",
   "mimetype": "text/x-python",
   "name": "python",
   "nbconvert_exporter": "python",
   "pygments_lexer": "ipython3",
   "version": "3.11.4"
  }
 },
 "nbformat": 4,
 "nbformat_minor": 5
}
