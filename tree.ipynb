{
 "cells": [
  {
   "cell_type": "code",
   "execution_count": 1,
   "id": "054c78ec",
   "metadata": {},
   "outputs": [],
   "source": [
    "%load_ext autoreload\n",
    "%autoreload 2"
   ]
  },
  {
   "cell_type": "code",
   "execution_count": 3,
   "id": "c7353b61",
   "metadata": {},
   "outputs": [],
   "source": [
    "from loglog import *"
   ]
  },
  {
   "cell_type": "markdown",
   "id": "1083dee6",
   "metadata": {},
   "source": [
    "# test"
   ]
  },
  {
   "cell_type": "code",
   "execution_count": 7,
   "id": "a61d72f1",
   "metadata": {},
   "outputs": [
    {
     "name": "stdout",
     "output_type": "stream",
     "text": [
      "- Main Item 1\n",
      "    - Subitem 1.1\n",
      "        [] Subsubitem 1.1.1\n",
      "        [x] Subsubitem 1.1.2\n",
      "    [?] Subitem 1.2\n",
      "        [?] Subsubitem 1.2.1\n",
      "- Main Item 2\n",
      "    - Subitem 2.1\n",
      "        - [xyz] Subsubitem 2.1.1\n",
      "        - Subsubitem 2.1.2\n",
      "        - Subsubitem 2.1.3\n"
     ]
    }
   ],
   "source": [
    "text_lines = \"\"\"\n",
    "- Main Item 1\n",
    "    - Subitem 1.1\n",
    "        [] Subsubitem 1.1.1\n",
    "        [x] Subsubitem 1.1.2\n",
    "    [?] Subitem 1.2\n",
    "        [-] Subsubitem 1.2.1\n",
    "- Main Item 2\n",
    "    - Subitem 2.1\n",
    "        [xyz] Subsubitem 2.1.1\n",
    "        -Subsubitem 2.1.2\n",
    "        - Subsubitem 2.1.3\"\"\".split('\\n')\n",
    "root = build_tree_from_text(text_lines)\n",
    "print_tree(root, numbered = False, decor = 'type')"
   ]
  },
  {
   "cell_type": "markdown",
   "id": "e2076ea5",
   "metadata": {},
   "source": [
    "# read and convert a file to a tree"
   ]
  },
  {
   "cell_type": "code",
   "execution_count": null,
   "id": "70e00a3d",
   "metadata": {
    "scrolled": true
   },
   "outputs": [],
   "source": "file_path = \"./demo/example_notes.txt\"  # Use relative path to project demo\nroot = build_tree_from_file(file_path)\nprint_tree(root, numbered = False, decor = 'type')"
  },
  {
   "cell_type": "markdown",
   "id": "4e974c0a",
   "metadata": {},
   "source": [
    "# direct acess tree"
   ]
  },
  {
   "cell_type": "code",
   "execution_count": 11,
   "id": "1ffcc01f",
   "metadata": {},
   "outputs": [
    {
     "name": "stdout",
     "output_type": "stream",
     "text": [
      "[?] 9.1.4.2. Fremont\n",
      "- 9.1.4.2.0. / U.S.A. (Director and Screenwriter: Babak Jalali, Screenwriter: Carolina Cavalli, Producers: Marjaneh Moghimi, Sudnya Shroff, Rachael Fung, George Rush, Chris Martin, Laura Wagner)\n",
      "\n",
      "- 9.1.4.2.1. — Donya works for a Chinese fortune cookie factory in San Francisco. Formerly a translator for the U.S. military in Afghanistan, she struggles to put her life back in order. In a moment of sudden revelation, she decides to send out a special message in a cookie. Cast: Anaita Wali Zada, Jeremy Allen White, Gregg Turkington. World Premiere. Fiction. Available online.\n",
      "\n"
     ]
    }
   ],
   "source": [
    "address = \"9.1.4.2.\"\n",
    "node = get_node(root, address)\n",
    "print_tree(node, numbered = True, decor = 'type')"
   ]
  },
  {
   "cell_type": "code",
   "execution_count": 12,
   "id": "e75c58f0",
   "metadata": {},
   "outputs": [
    {
     "data": {
      "text/plain": [
       "'todo'"
      ]
     },
     "execution_count": 12,
     "metadata": {},
     "output_type": "execute_result"
    }
   ],
   "source": [
    "node.type"
   ]
  },
  {
   "cell_type": "code",
   "execution_count": 14,
   "id": "14f2654c",
   "metadata": {},
   "outputs": [],
   "source": [
    "node.status"
   ]
  },
  {
   "cell_type": "code",
   "execution_count": 13,
   "id": "346db93c",
   "metadata": {},
   "outputs": [
    {
     "data": {
      "text/plain": [
       "'Fremont'"
      ]
     },
     "execution_count": 13,
     "metadata": {},
     "output_type": "execute_result"
    }
   ],
   "source": [
    "node.data"
   ]
  },
  {
   "cell_type": "code",
   "execution_count": null,
   "id": "14a02bee",
   "metadata": {},
   "outputs": [],
   "source": []
  }
 ],
 "metadata": {
  "kernelspec": {
   "display_name": "Python 3 (ipykernel)",
   "language": "python",
   "name": "python3"
  },
  "language_info": {
   "codemirror_mode": {
    "name": "ipython",
    "version": 3
   },
   "file_extension": ".py",
   "mimetype": "text/x-python",
   "name": "python",
   "nbconvert_exporter": "python",
   "pygments_lexer": "ipython3",
   "version": "3.11.4"
  }
 },
 "nbformat": 4,
 "nbformat_minor": 5
}